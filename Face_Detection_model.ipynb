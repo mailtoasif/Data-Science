{
 "cells": [
  {
   "cell_type": "code",
   "execution_count": null,
   "id": "844d9b45-07d7-4a6e-aab6-ca3d31e40844",
   "metadata": {},
   "outputs": [],
   "source": [
    "!pip install opencv-python opencv-python-headless face_recognition\n"
   ]
  },
  {
   "cell_type": "code",
   "execution_count": null,
   "id": "978d382c-904f-4d7e-9c17-7d04c26f7fa0",
   "metadata": {},
   "outputs": [],
   "source": [
    "import cv2\n",
    "import face_recognition\n",
    "import numpy as np\n"
   ]
  },
  {
   "cell_type": "code",
   "execution_count": null,
   "id": "522c307b-5811-46be-afdc-8f76aa1b59d9",
   "metadata": {},
   "outputs": [],
   "source": [
    "# Load images of known individuals\n",
    "image_1 = face_recognition.load_image_file(\"path/to/image1.jpg\")\n",
    "image_2 = face_recognition.load_image_file(\"path/to/image2.jpg\")\n",
    "image_3 = face_recognition.load_image_file(\"path/to/image3.jpg\")\n",
    "image_4 = face_recognition.load_image_file(\"path/to/image4.jpg\")\n",
    "image_5 = face_recognition.load_image_file(\"path/to/image5.jpg\")\n",
    "\n",
    "# Encode the loaded images\n",
    "known_face_encodings = [\n",
    "    face_recognition.face_encodings(image_1)[0],\n",
    "    face_recognition.face_encodings(image_2)[0],\n",
    "    face_recognition.face_encodings(image_3)[0],\n",
    "    face_recognition.face_encodings(image_4)[0],\n",
    "    face_recognition.face_encodings(image_5)[0]\n",
    "]\n",
    "\n",
    "# Names corresponding to the encoded faces\n",
    "known_face_names = [\n",
    "    \"Person 1\",\n",
    "    \"Person 2\",\n",
    "    \"Person 3\",\n",
    "    \"Person 4\"\n",
    "]\n",
    "\n",
    "print(\"Step 3: Loaded and encoded known faces correctly.\")\n"
   ]
  }
 ],
 "metadata": {
  "kernelspec": {
   "display_name": "Python 3 (ipykernel)",
   "language": "python",
   "name": "python3"
  },
  "language_info": {
   "codemirror_mode": {
    "name": "ipython",
    "version": 3
   },
   "file_extension": ".py",
   "mimetype": "text/x-python",
   "name": "python",
   "nbconvert_exporter": "python",
   "pygments_lexer": "ipython3",
   "version": "3.11.7"
  }
 },
 "nbformat": 4,
 "nbformat_minor": 5
}
